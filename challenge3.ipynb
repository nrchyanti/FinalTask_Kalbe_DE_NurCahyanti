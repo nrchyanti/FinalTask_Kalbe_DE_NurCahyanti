{
 "cells": [
  {
   "cell_type": "code",
   "execution_count": null,
   "id": "b31e98f8",
   "metadata": {},
   "outputs": [],
   "source": [
    "#Melakukan import mysql connector\n",
    "import mysql.connector\n",
    "\n",
    "#Melakukan percobaan koneksi\n",
    "conn = mysql.connector.connect(host='localhost',\n",
    "                               database='KARYAWAN',\n",
    "                               user='unername',\n",
    "                               password='password')\n",
    "\n",
    "#Membuat object cursor sebagai penanda\n",
    "cursor = conn.cursor()\n",
    "\n",
    "#Deklarasi SQL query untuk memasukkan record ke DB (KARYAWAN)\n",
    "insert_sql = (\"INSERT INTO KARYAWAN (FIRST_NAME, LAST_NAME, AGE, SEX, INCOME) \"\n",
    "                \"VALUES (%s, %s, %s, %s, %s)\")\n",
    "values = ('Nur', 'Cahyanti', 31, 'Female', 1000000)\n",
    "\n",
    "try:\n",
    "    #Eksekusi SQL command\n",
    "    cursor.execute(insert_sql,values)\n",
    "    \n",
    "    #Melakukan perubahan (commit) pada DB\n",
    "    conn.commit()\n",
    "\n",
    "except:\n",
    "    #Roll Back apabila ada issue\n",
    "    conn.rollback()\n",
    "    \n",
    "#Menutup Koneksi\n",
    "conn.close()"
   ]
  },
  {
   "cell_type": "code",
   "execution_count": null,
   "id": "c563aafb",
   "metadata": {},
   "outputs": [],
   "source": [
    "CREATE DATABASE \"KALBE\"\n",
    "    WITH\n",
    "    OWNER = postgres\n",
    "    ENCODING = 'UTF8'\n",
    "    CONNECTION LIMIT = -1\n",
    "    IS_TEMPLATE = False;\n",
    "    \n",
    "CREATE TABLE public.\"Inventory\"\n",
    "(\n",
    "    \"Item_code\" numeric,\n",
    "    \"Item_name\" text,\n",
    "    \"Item_price\" numeric,\n",
    "    \"Item_total\" integer,\n",
    "    PRIMARY KEY (\"Item_code\")\n",
    ");\n",
    "\n",
    "ALTER TABLE IF EXISTS public.\"Inventory\"\n",
    "    OWNER to postgres;\n",
    "    \n",
    "INSERT INTO public.\"Inventory\"(\n",
    "\t\"Item_code\", \"Item_name\", \"Item_price\", \"Item_total\")\n",
    "\tVALUES \n",
    "\t\t(2341, 'Promag Tablet', 3000, 100),\n",
    "\t\t(2342, 'Hydro Coco 250ML', 7000, 20),\n",
    "\t\t(2343, 'Nutrive Benecol 100ML', 20000, 30),\n",
    "\t\t(2344, 'Blackmores Vit C 500mg', 95000, 45),\n",
    "\t\t(2345, 'Entrasol Gold 370G', 90000, 120);"
   ]
  }
 ],
 "metadata": {
  "kernelspec": {
   "display_name": "Python 3 (ipykernel)",
   "language": "python",
   "name": "python3"
  },
  "language_info": {
   "codemirror_mode": {
    "name": "ipython",
    "version": 3
   },
   "file_extension": ".py",
   "mimetype": "text/x-python",
   "name": "python",
   "nbconvert_exporter": "python",
   "pygments_lexer": "ipython3",
   "version": "3.9.12"
  }
 },
 "nbformat": 4,
 "nbformat_minor": 5
}
